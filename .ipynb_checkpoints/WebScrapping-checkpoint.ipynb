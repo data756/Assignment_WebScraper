{
 "cells": [
  {
   "cell_type": "markdown",
   "id": "42d2ffb3",
   "metadata": {},
   "source": [
    "Q1- What is Web Scraping? Why is it Used? Give three areas where Web Scraping is used to get data.\n",
    "\n",
    "Ans1:- Web Scrapping is a way to extract data from website. It is used mostly for data harvesting. Web Scraping in used for following areas to get the data.\n",
    "\n",
    "1. Search engine bots crawling a site for ranking it.\n",
    "2. Price comparison sites deploying bot to auto fetch the size.\n",
    "3. Market research companies using scrapers to pull data from social media."
   ]
  },
  {
   "cell_type": "markdown",
   "id": "24edc5a8",
   "metadata": {},
   "source": [
    "Q2 -  What are the different methods used for Web Scraping?\n",
    "\n",
    "Ans2 :- 1. Manual Scraping\n",
    "        2. Automated Scraping\n",
    "        3. Outsourced Web Scraping "
   ]
  },
  {
   "cell_type": "markdown",
   "id": "79451b58",
   "metadata": {},
   "source": [
    "Q3:- What is Beautiful Soup? Why is it used?\n",
    "\n",
    "Ans3:- Beautiful Soup is python library which is used to format data in structural way.  When we read any html form from the requests and try to print on console without formatting then it is very hard to decode or read the infromation. Hence if read the html form and use that with Beautiful Soup and print the whole html page on the console in formatted way."
   ]
  },
  {
   "cell_type": "markdown",
   "id": "c1dc2be3",
   "metadata": {},
   "source": [
    "Q4 :- Why is flask used in this Web Scraping project?\n",
    "\n",
    "Ans4:- Flask is lightwieght framework to build website. We will use this to parse the collected data. the request module allow us to send http requests to website we want to scrape.render template module of the flask will allow us the render the results on webpage."
   ]
  },
  {
   "cell_type": "markdown",
   "id": "5c1fc58f",
   "metadata": {},
   "source": [
    "Q5:- Write the names of AWS services used in this project. Also, explain the use of each service.\n",
    "\n",
    "Ans5 :-  \n",
    "1. Elastic BeanStalk : it is the end to end web application management module which will take care of the deployment , from capacity provisioning , load balancing, and automatic scaling of web applicaiton.\n",
    "2. Code Pipeline :- it is contiouns delivery tool to release and deploy the software. it is actually used to take care of software release process. "
   ]
  },
  {
   "cell_type": "code",
   "execution_count": null,
   "id": "2efc44b4",
   "metadata": {},
   "outputs": [],
   "source": []
  }
 ],
 "metadata": {
  "kernelspec": {
   "display_name": "Python 3 (ipykernel)",
   "language": "python",
   "name": "python3"
  },
  "language_info": {
   "codemirror_mode": {
    "name": "ipython",
    "version": 3
   },
   "file_extension": ".py",
   "mimetype": "text/x-python",
   "name": "python",
   "nbconvert_exporter": "python",
   "pygments_lexer": "ipython3",
   "version": "3.10.6"
  }
 },
 "nbformat": 4,
 "nbformat_minor": 5
}
